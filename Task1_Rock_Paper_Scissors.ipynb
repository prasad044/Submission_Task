{
 "cells": [
  {
   "cell_type": "code",
   "execution_count": 2,
   "metadata": {},
   "outputs": [
    {
     "name": "stdout",
     "output_type": "stream",
     "text": [
      "Welcome to Rock Paper Scissors!\n",
      "Enter your name: Tushar\n",
      "Current High Score is 3 by Prasad\n",
      "Choose rock, paper, or scissors: rock\n",
      "Opponent's turn. Choose rock, paper, or scissors: paper\n",
      "Opponent wins!\n",
      "Do you want to play again? (yes/no) no\n"
     ]
    }
   ],
   "source": [
    "import os\n",
    "\n",
    "def check_result(player1, player2):\n",
    "    if player1 == player2:\n",
    "        return \"draw\"\n",
    "    elif (player1 == \"rock\" and player2 == \"scissors\") or (player1 == \"scissors\" and player2 == \"paper\") or (player1 == \"paper\" and player2 == \"rock\"):\n",
    "        return \"player1\"\n",
    "    else:\n",
    "        return \"player2\"\n",
    "\n",
    "def update_score(player, score):\n",
    "    if os.path.exists(\"score.txt\"):\n",
    "        with open(\"score.txt\", \"r\") as f:\n",
    "            current_high_score = f.read().strip().split(\",\")\n",
    "            if int(current_high_score[1]) < score:\n",
    "                with open(\"score.txt\", \"w\") as f:\n",
    "                    f.write(f\"{player},{score}\")\n",
    "    else:\n",
    "        with open(\"score.txt\", \"w\") as f:\n",
    "            f.write(f\"{player},{score}\")\n",
    "\n",
    "def get_high_score():\n",
    "    if os.path.exists(\"score.txt\"):\n",
    "        with open(\"score.txt\", \"r\") as f:\n",
    "            current_high_score = f.read().strip().split(\",\")\n",
    "            return current_high_score[0], int(current_high_score[1])\n",
    "    else:\n",
    "        return None, 0\n",
    "\n",
    "def play_game():\n",
    "    print(\"Welcome to Rock Paper Scissors!\")\n",
    "    player1 = input(\"Enter your name: \")\n",
    "    player1_score = 0\n",
    "    high_score_player, high_score = get_high_score()\n",
    "    if high_score_player:\n",
    "        print(f\"Current High Score is {high_score} by {high_score_player}\")\n",
    "    while True:\n",
    "        player1_choice = input(\"Choose rock, paper, or scissors: \")\n",
    "        player2_choice = input(\"Opponent's turn. Choose rock, paper, or scissors: \")\n",
    "        result = check_result(player1_choice, player2_choice)\n",
    "        if result == \"player1\":\n",
    "            player1_score += 1\n",
    "            print(f\"{player1} wins!\")\n",
    "        elif result == \"player2\":\n",
    "            print(\"Opponent wins!\")\n",
    "        else:\n",
    "            print(\"Draw!\")\n",
    "        update_score(player1, player1_score)\n",
    "        if input(\"Do you want to play again? (yes/no) \") == \"no\":\n",
    "            break\n",
    "\n",
    "play_game()\n"
   ]
  },
  {
   "cell_type": "code",
   "execution_count": null,
   "metadata": {},
   "outputs": [],
   "source": []
  }
 ],
 "metadata": {
  "kernelspec": {
   "display_name": "Python 3",
   "language": "python",
   "name": "python3"
  },
  "language_info": {
   "codemirror_mode": {
    "name": "ipython",
    "version": 3
   },
   "file_extension": ".py",
   "mimetype": "text/x-python",
   "name": "python",
   "nbconvert_exporter": "python",
   "pygments_lexer": "ipython3",
   "version": "3.7.4"
  }
 },
 "nbformat": 4,
 "nbformat_minor": 2
}
