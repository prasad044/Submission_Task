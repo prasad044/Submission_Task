{
 "cells": [
  {
   "cell_type": "code",
   "execution_count": 1,
   "metadata": {},
   "outputs": [],
   "source": [
    "def min_coins(amount, coins, infinite=True, coin_counts=None):\n",
    "    if infinite:\n",
    "        coin_counts = [float(\"inf\") for _ in range(len(coins))]\n",
    "    else:\n",
    "        assert len(coins) == len(coin_counts), \"Length of coins and coin_counts must be equal.\"\n",
    "    change = []\n",
    "    for i in range(len(coins) - 1, -1, -1):\n",
    "        while amount >= coins[i] and coin_counts[i] > 0:\n",
    "            amount -= coins[i]\n",
    "            coin_counts[i] -= 1\n",
    "            change.append(coins[i])\n",
    "    if amount == 0:\n",
    "        return change\n",
    "    return None\n",
    "\n"
   ]
  },
  {
   "cell_type": "markdown",
   "metadata": {},
   "source": [
    "The function min_coins takes in four arguments:\n",
    "\n",
    "amount: the amount of change to be returned, in cents.<br />\n",
    "coins: a list of the coin denominations, in decreasing order.<br />\n",
    "infinite: a flag to indicate whether there is an infinite number of coins of each denomination (defaults to True).<br />\n",
    "coin_counts: a list of the number of coins available for each denomination, used when infinite is False.<br />\n",
    "The function returns a list of coin denominations that makes up the change, or None if it is not possible to return the change using the available coins."
   ]
  },
  {
   "cell_type": "code",
   "execution_count": 3,
   "metadata": {},
   "outputs": [
    {
     "name": "stdout",
     "output_type": "stream",
     "text": [
      "[20, 20, 2, 1]\n",
      "[25, 10, 5, 1, 1, 1]\n",
      "[20, 20, 1, 1, 1]\n",
      "[20, 20, 1, 1, 1]\n"
     ]
    }
   ],
   "source": [
    "# British Pound\n",
    "print(min_coins(43, [1, 2, 5, 10, 20, 50])) # [20, 20, 2, 1]\n",
    "\n",
    "# US Dollar\n",
    "print(min_coins(43, [1, 5, 10, 25])) # [25, 10, 5, 1, 1, 1]\n",
    "\n",
    "# Norwegian Krone\n",
    "print(min_coins(43, [1, 5, 10, 20])) # [20, 20, 2, 1]\n",
    "\n",
    "# With a fixed number of coins\n",
    "coin_counts = [3, 2, 1, 4]\n",
    "print(min_coins(43, [1, 5, 10, 20], infinite=False, coin_counts=coin_counts)) # [20, 20, 2, 1]\n"
   ]
  },
  {
   "cell_type": "code",
   "execution_count": null,
   "metadata": {},
   "outputs": [],
   "source": []
  }
 ],
 "metadata": {
  "kernelspec": {
   "display_name": "Python 3",
   "language": "python",
   "name": "python3"
  },
  "language_info": {
   "codemirror_mode": {
    "name": "ipython",
    "version": 3
   },
   "file_extension": ".py",
   "mimetype": "text/x-python",
   "name": "python",
   "nbconvert_exporter": "python",
   "pygments_lexer": "ipython3",
   "version": "3.7.4"
  }
 },
 "nbformat": 4,
 "nbformat_minor": 2
}
