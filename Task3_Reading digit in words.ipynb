{
 "cells": [
  {
   "cell_type": "code",
   "execution_count": 3,
   "metadata": {},
   "outputs": [
    {
     "name": "stdout",
     "output_type": "stream",
     "text": [
      "four thousand fifty-five\n",
      "four thousand one hundred ten\n",
      "three thousand four hundred two\n",
      "forty-five\n"
     ]
    }
   ],
   "source": [
    "def spell_out_number(number):\n",
    "    # Dictionary to store the spelling of numbers from 0 to 19\n",
    "    single_digit_numbers = {\n",
    "        0: \"zero\",\n",
    "        1: \"one\",\n",
    "        2: \"two\",\n",
    "        3: \"three\",\n",
    "        4: \"four\",\n",
    "        5: \"five\",\n",
    "        6: \"six\",\n",
    "        7: \"seven\",\n",
    "        8: \"eight\",\n",
    "        9: \"nine\",\n",
    "        10: \"ten\",\n",
    "        11: \"eleven\",\n",
    "        12: \"twelve\",\n",
    "        13: \"thirteen\",\n",
    "        14: \"fourteen\",\n",
    "        15: \"fifteen\",\n",
    "        16: \"sixteen\",\n",
    "        17: \"seventeen\",\n",
    "        18: \"eighteen\",\n",
    "        19: \"nineteen\"\n",
    "    }\n",
    "\n",
    "    # Dictionary to store the spelling of numbers from 20 to 90 in increments of 10\n",
    "    tens_place_numbers = {\n",
    "        2: \"twenty\",\n",
    "        3: \"thirty\",\n",
    "        4: \"forty\",\n",
    "        5: \"fifty\",\n",
    "        6: \"sixty\",\n",
    "        7: \"seventy\",\n",
    "        8: \"eighty\",\n",
    "        9: \"ninety\"\n",
    "    }\n",
    "\n",
    "    if number < 20:\n",
    "        # Return the spelling of numbers 0 to 19\n",
    "        return single_digit_numbers[number]\n",
    "    elif number < 100:\n",
    "        # Return the spelling of numbers 20 to 99\n",
    "        tens_digit = number // 10\n",
    "        ones_digit = number % 10\n",
    "        if ones_digit == 0:\n",
    "            return tens_place_numbers[tens_digit]\n",
    "        else:\n",
    "            return tens_place_numbers[tens_digit] + \"-\" + single_digit_numbers[ones_digit]\n",
    "    elif number < 1000:\n",
    "        # Return the spelling of numbers 100 to 999\n",
    "        hundreds_digit = number // 100\n",
    "        tens_and_ones = number % 100\n",
    "        if tens_and_ones == 0:\n",
    "            return single_digit_numbers[hundreds_digit] + \" hundred\"\n",
    "        else:\n",
    "            return single_digit_numbers[hundreds_digit] + \" hundred \" + spell_out_number(tens_and_ones)\n",
    "    elif number < 10000:\n",
    "        # Return the spelling of numbers 1000 to 9999\n",
    "        thousands_digit = number // 1000\n",
    "        hundreds = number % 1000\n",
    "        if hundreds == 0:\n",
    "            return single_digit_numbers[thousands_digit] + \" thousand\"\n",
    "        else:\n",
    "            return single_digit_numbers[thousands_digit] + \" thousand \" + spell_out_number(hundreds)\n",
    "\n",
    "print(spell_out_number(4055))\n",
    "print(spell_out_number(4110))\n",
    "print(spell_out_number(3402))\n",
    "print(spell_out_number(45))"
   ]
  },
  {
   "cell_type": "code",
   "execution_count": null,
   "metadata": {},
   "outputs": [],
   "source": []
  }
 ],
 "metadata": {
  "kernelspec": {
   "display_name": "Python 3",
   "language": "python",
   "name": "python3"
  },
  "language_info": {
   "codemirror_mode": {
    "name": "ipython",
    "version": 3
   },
   "file_extension": ".py",
   "mimetype": "text/x-python",
   "name": "python",
   "nbconvert_exporter": "python",
   "pygments_lexer": "ipython3",
   "version": "3.7.4"
  }
 },
 "nbformat": 4,
 "nbformat_minor": 2
}
